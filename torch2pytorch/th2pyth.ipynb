{
 "cells": [
  {
   "cell_type": "code",
   "execution_count": 1,
   "metadata": {
    "collapsed": true
   },
   "outputs": [],
   "source": [
    "# Convert torch model into pytorch model\n",
    "\n",
    "import torch\n",
    "import torch.nn as nn\n",
    "import torch.legacy.nn as nn1\n",
    "from torch.utils.serialization import load_lua\n",
    "from torch.autograd import Variable"
   ]
  },
  {
   "cell_type": "code",
   "execution_count": 2,
   "metadata": {
    "collapsed": true
   },
   "outputs": [],
   "source": [
    "# load torch model\n",
    "\n",
    "nn1.SpatialConvolutionMM = nn1.SpatialConvolution #load_lua does not recognize SpatialConvolutionMM\n",
    "\n",
    "m1 = load_lua('/Workspace/model.net')\n",
    "m1.evaluate()"
   ]
  },
  {
   "cell_type": "code",
   "execution_count": 3,
   "metadata": {
    "collapsed": true
   },
   "outputs": [],
   "source": [
    "def patch(m):\n",
    "    s = str(type(m))\n",
    "    s = s[str.rfind(s, '.')+1:-2]\n",
    "    if s == 'Padding' and hasattr(m, 'nInputDim') and m.nInputDim == 3:\n",
    "        m.dim = m.dim + 1\n",
    "    if s == 'View' and len(m.size) == 1:\n",
    "        m.size = torch.Size([1,m.size[0]])\n",
    "    if hasattr(m, 'modules'):\n",
    "        for m in m.modules:\n",
    "            patch(m)\n"
   ]
  },
  {
   "cell_type": "code",
   "execution_count": 4,
   "metadata": {},
   "outputs": [
    {
     "name": "stdout",
     "output_type": "stream",
     "text": [
      "nn.Sequential {\n",
      "  [input -> (0) -> (1) -> (2) -> (3) -> (4) -> (5) -> (6) -> (7) -> (8) -> (9) -> (10) -> (11) -> (12) -> (13) -> (14) -> (15) -> (16) -> (17) -> (18) -> (19) -> output]\n",
      "  (0): nn.SpatialConvolution(3 -> 64, 11x11, 4, 4, 2, 2)\n",
      "  (1): nn.ReLU\n",
      "  (2): nn.SpatialMaxPooling(3x3, 2, 2)\n",
      "  (3): nn.SpatialConvolution(64 -> 192, 5x5, 1, 1, 2, 2)\n",
      "  (4): nn.ReLU\n",
      "  (5): nn.SpatialMaxPooling(3x3, 2, 2)\n",
      "  (6): nn.SpatialConvolution(192 -> 384, 3x3, 1, 1, 1, 1)\n",
      "  (7): nn.ReLU\n",
      "  (8): nn.SpatialConvolution(384 -> 256, 3x3, 1, 1, 1, 1)\n",
      "  (9): nn.ReLU\n",
      "  (10): nn.SpatialConvolution(256 -> 256, 3x3, 1, 1, 1, 1)\n",
      "  (11): nn.ReLU\n",
      "  (12): nn.SpatialMaxPooling(3x3, 2, 2)\n",
      "  (13): nn.View(1, 9216)\n",
      "  (14): nn.Linear(9216 -> 4096)\n",
      "  (15): nn.ReLU\n",
      "  (16): nn.Linear(4096 -> 4096)\n",
      "  (17): nn.ReLU\n",
      "  (18): nn.Linear(4096 -> 46)\n",
      "  (19): nn.SoftMax\n",
      "}\n"
     ]
    }
   ],
   "source": [
    "patch(m1)\n",
    "print(m1)"
   ]
  },
  {
   "cell_type": "code",
   "execution_count": 5,
   "metadata": {
    "collapsed": true
   },
   "outputs": [],
   "source": [
    "class ModelDef(nn.Module):\n",
    "\n",
    "    def __init__(self, num_classes=46):\n",
    "        super(ModelDef, self).__init__()\n",
    "        self.features = nn.Sequential(\n",
    "            nn.Conv2d(3, 64, kernel_size=11, stride=4, padding=2),\n",
    "            nn.ReLU(inplace=True),                                \n",
    "            nn.MaxPool2d(kernel_size=3, stride=2),\n",
    "            nn.Conv2d(64, 192, kernel_size=5, padding=2),\n",
    "            nn.ReLU(inplace=True),\n",
    "            nn.MaxPool2d(kernel_size=3, stride=2),\n",
    "            nn.Conv2d(192, 384, kernel_size=3, padding=1),\n",
    "            nn.ReLU(inplace=True),\n",
    "            nn.Conv2d(384, 256, kernel_size=3, padding=1),\n",
    "            nn.ReLU(inplace=True),\n",
    "            nn.Conv2d(256, 256, kernel_size=3, padding=1),\n",
    "            nn.ReLU(inplace=True),\n",
    "            nn.MaxPool2d(kernel_size=3, stride=2),\n",
    "        )\n",
    "        self.classifier = nn.Sequential(\n",
    "            nn.Linear(9216, 4096),\n",
    "            nn.ReLU(inplace=True),\n",
    "            nn.Linear(4096, 4096),\n",
    "            nn.ReLU(inplace=True),\n",
    "            nn.Linear(4096, num_classes)\n",
    "        )                                                         \n",
    "                                                                  \n",
    "    def forward(self, x):\n",
    "        x = self.features(x)\n",
    "        x = x.view(x.size(0), 256 * 6 * 6)\n",
    "        x = self.classifier(x)\n",
    "        return x\n"
   ]
  },
  {
   "cell_type": "code",
   "execution_count": 6,
   "metadata": {
    "collapsed": true
   },
   "outputs": [],
   "source": [
    "m2 = ModelDef()\n",
    "m2.eval()\n",
    "m = nn.Softmax()"
   ]
  },
  {
   "cell_type": "code",
   "execution_count": 7,
   "metadata": {},
   "outputs": [
    {
     "name": "stdout",
     "output_type": "stream",
     "text": [
      "1.3432990044748294e-06\t0.022018155083060265\n",
      "0.0008719050674699247\t0.022039148956537247\n",
      "0.007889222353696823\t0.021509507670998573\n",
      "0.0004464764497242868\t0.021576479077339172\n",
      "0.0003359577094670385\t0.021639961749315262\n",
      "1.7650879672800879e-12\t0.02152116224169731\n",
      "0.00433177687227726\t0.021732622757554054\n",
      "3.5346817139902953e-10\t0.02132371813058853\n",
      "5.946105777020674e-17\t0.022074732929468155\n",
      "7.42116170772157e-18\t0.021620875224471092\n",
      "2.153080686184694e-06\t0.021924156695604324\n",
      "0.010166157968342304\t0.02187509462237358\n",
      "0.14177590608596802\t0.021905595436692238\n",
      "4.358494152256753e-06\t0.022067096084356308\n",
      "2.4869538736118643e-18\t0.02138614095747471\n",
      "0.008647882379591465\t0.021801117807626724\n",
      "8.150720376409737e-11\t0.02167879231274128\n",
      "8.782055260780908e-07\t0.021408220753073692\n",
      "0.012028225697577\t0.02191108837723732\n",
      "0.010035747662186623\t0.02156299166381359\n",
      "0.11148055642843246\t0.02182559110224247\n",
      "7.24380515748635e-05\t0.02188880741596222\n",
      "0.000648920948151499\t0.021966079249978065\n",
      "0.00041553800110705197\t0.02156689204275608\n",
      "0.5863264799118042\t0.021324940025806427\n",
      "1.4560652061845758e-06\t0.021738141775131226\n",
      "0.0003181264619342983\t0.021697165444493294\n",
      "9.683155076345429e-05\t0.02181481383740902\n",
      "1.7417216113813083e-08\t0.02183741331100464\n",
      "0.00019580854859668761\t0.02213718183338642\n",
      "0.0004190478066448122\t0.02181345596909523\n",
      "0.02167375758290291\t0.02184818871319294\n",
      "5.7447582548775245e-06\t0.022094057872891426\n",
      "0.0026216977275907993\t0.021630844101309776\n",
      "1.707065530354157e-05\t0.021400123834609985\n",
      "1.1819829559556183e-09\t0.021656261757016182\n",
      "0.00038011331344023347\t0.02194521389901638\n",
      "0.05634373053908348\t0.021586017683148384\n",
      "0.010638452135026455\t0.021794524043798447\n",
      "5.027295173931634e-06\t0.02164366841316223\n",
      "0.0005301411729305983\t0.021417489275336266\n",
      "0.002515652682632208\t0.021755939349532127\n",
      "0.00010807059879880399\t0.021748697385191917\n",
      "0.008504015393555164\t0.02184322662651539\n",
      "3.978097538492875e-06\t0.021836012601852417\n",
      "0.00013932630827184767\t0.02161259762942791\n"
     ]
    }
   ],
   "source": [
    "x1 = torch.randn(1, 3, 224, 224)\n",
    "x1_var = Variable(x1)\n",
    "y1 = m1.forward(x1)\n",
    "y2 = m(m2(x1_var))\n",
    "# Output of both network will be different; which is obvious!!!\n",
    "for i in range(len(y1[0])):\n",
    "    print(str(y1[0][i]) + '\\t' + str(y2.data[0][i]))"
   ]
  },
  {
   "cell_type": "code",
   "execution_count": 8,
   "metadata": {
    "collapsed": true
   },
   "outputs": [],
   "source": [
    "# copy weights from torch model into pytorch model\n",
    "j = 0\n",
    "for i in m2.modules():\n",
    "    if not list(i.children()):\n",
    "        if len(i.state_dict()) > 0:\n",
    "            i.weight.data = m1.modules[j].weight\n",
    "            i.bias.data = m1.modules[j].bias\n",
    "            \n",
    "        j += 1\n",
    "        if j == 13:    # Ignore nn.View\n",
    "            j += 1\n"
   ]
  },
  {
   "cell_type": "code",
   "execution_count": 9,
   "metadata": {},
   "outputs": [
    {
     "data": {
      "text/plain": [
       "Parameter containing:\n",
       "-0.0000 -0.0000 -0.0000  ...  -0.0001  0.0000  0.0000\n",
       " 0.0000  0.0000  0.0000  ...   0.0000 -0.0000 -0.0000\n",
       " 0.0002 -0.0001  0.0001  ...   0.0000 -0.0002  0.0169\n",
       "          ...             ⋱             ...          \n",
       " 0.0000 -0.0000 -0.0000  ...   0.0000 -0.0000  0.0000\n",
       "-0.0000  0.0000  0.0000  ...   0.0001 -0.0000 -0.0000\n",
       " 0.0000 -0.0000  0.0000  ...  -0.0000 -0.0000 -0.0000\n",
       "[torch.FloatTensor of size 4096x9216]"
      ]
     },
     "execution_count": 9,
     "metadata": {},
     "output_type": "execute_result"
    }
   ],
   "source": [
    "m2._modules['classifier'][0].weight"
   ]
  },
  {
   "cell_type": "code",
   "execution_count": 10,
   "metadata": {},
   "outputs": [
    {
     "data": {
      "text/plain": [
       "\n",
       "-0.0000 -0.0000 -0.0000  ...  -0.0001  0.0000  0.0000\n",
       " 0.0000  0.0000  0.0000  ...   0.0000 -0.0000 -0.0000\n",
       " 0.0002 -0.0001  0.0001  ...   0.0000 -0.0002  0.0169\n",
       "          ...             ⋱             ...          \n",
       " 0.0000 -0.0000 -0.0000  ...   0.0000 -0.0000  0.0000\n",
       "-0.0000  0.0000  0.0000  ...   0.0001 -0.0000 -0.0000\n",
       " 0.0000 -0.0000  0.0000  ...  -0.0000 -0.0000 -0.0000\n",
       "[torch.FloatTensor of size 4096x9216]"
      ]
     },
     "execution_count": 10,
     "metadata": {},
     "output_type": "execute_result"
    }
   ],
   "source": [
    "m1.modules[14].weight # both weights should match"
   ]
  },
  {
   "cell_type": "code",
   "execution_count": 11,
   "metadata": {},
   "outputs": [
    {
     "name": "stdout",
     "output_type": "stream",
     "text": [
      "1.3432990044748294e-06\t1.3432990044748294e-06\n",
      "0.0008719050674699247\t0.0008719050674699247\n",
      "0.007889222353696823\t0.007889222353696823\n",
      "0.0004464764497242868\t0.0004464764497242868\n",
      "0.0003359577094670385\t0.0003359577094670385\n",
      "1.7650879672800879e-12\t1.7650879672800879e-12\n",
      "0.00433177687227726\t0.00433177687227726\n",
      "3.5346817139902953e-10\t3.5346817139902953e-10\n",
      "5.946105777020674e-17\t5.946105777020674e-17\n",
      "7.42116170772157e-18\t7.42116170772157e-18\n",
      "2.153080686184694e-06\t2.153080686184694e-06\n",
      "0.010166157968342304\t0.010166157968342304\n",
      "0.14177590608596802\t0.14177590608596802\n",
      "4.358494152256753e-06\t4.358494152256753e-06\n",
      "2.4869538736118643e-18\t2.4869538736118643e-18\n",
      "0.008647882379591465\t0.008647882379591465\n",
      "8.150720376409737e-11\t8.150720376409737e-11\n",
      "8.782055260780908e-07\t8.782055260780908e-07\n",
      "0.012028225697577\t0.012028225697577\n",
      "0.010035747662186623\t0.010035747662186623\n",
      "0.11148055642843246\t0.11148055642843246\n",
      "7.24380515748635e-05\t7.24380515748635e-05\n",
      "0.000648920948151499\t0.000648920948151499\n",
      "0.00041553800110705197\t0.00041553800110705197\n",
      "0.5863264799118042\t0.5863264799118042\n",
      "1.4560652061845758e-06\t1.4560652061845758e-06\n",
      "0.0003181264619342983\t0.0003181264619342983\n",
      "9.683155076345429e-05\t9.683155076345429e-05\n",
      "1.7417216113813083e-08\t1.7417216113813083e-08\n",
      "0.00019580854859668761\t0.00019580854859668761\n",
      "0.0004190478066448122\t0.0004190478066448122\n",
      "0.02167375758290291\t0.02167375758290291\n",
      "5.7447582548775245e-06\t5.7447582548775245e-06\n",
      "0.0026216977275907993\t0.0026216977275907993\n",
      "1.707065530354157e-05\t1.707065530354157e-05\n",
      "1.1819829559556183e-09\t1.1819829559556183e-09\n",
      "0.00038011331344023347\t0.00038011331344023347\n",
      "0.05634373053908348\t0.05634373053908348\n",
      "0.010638452135026455\t0.010638452135026455\n",
      "5.027295173931634e-06\t5.027295173931634e-06\n",
      "0.0005301411729305983\t0.0005301411729305983\n",
      "0.002515652682632208\t0.002515652682632208\n",
      "0.00010807059879880399\t0.00010807059879880399\n",
      "0.008504015393555164\t0.008504015393555164\n",
      "3.978097538492875e-06\t3.978097538492875e-06\n",
      "0.00013932630827184767\t0.00013932630827184767\n"
     ]
    }
   ],
   "source": [
    "y1 = m1.forward(x1)\n",
    "y2 = m(m2(x1_var))\n",
    "# Output of both networks are same because they now have the same weights\n",
    "for i in range(len(y1[0])):\n",
    "    print(str(y1[0][i]) + '\\t' + str(y2.data[0][i]))"
   ]
  },
  {
   "cell_type": "code",
   "execution_count": 12,
   "metadata": {
    "collapsed": true
   },
   "outputs": [],
   "source": [
    "# Conversion of torch to pytorch model complete\n",
    "# Time to save the new model\n",
    "torch.save(m2.state_dict(), '/Workspace/pytorch_model.pth.tar')"
   ]
  }
 ],
 "metadata": {
  "kernelspec": {
   "display_name": "Python 3",
   "language": "python",
   "name": "python3"
  },
  "language_info": {
   "codemirror_mode": {
    "name": "ipython",
    "version": 3
   },
   "file_extension": ".py",
   "mimetype": "text/x-python",
   "name": "python",
   "nbconvert_exporter": "python",
   "pygments_lexer": "ipython3",
   "version": "3.5.2"
  }
 },
 "nbformat": 4,
 "nbformat_minor": 2
}
