{
 "cells": [
  {
   "cell_type": "code",
   "execution_count": 1,
   "metadata": {
    "collapsed": true
   },
   "outputs": [],
   "source": [
    "import torch\n",
    "import torch.nn as nn\n",
    "import torchvision.models as models"
   ]
  },
  {
   "cell_type": "code",
   "execution_count": 2,
   "metadata": {},
   "outputs": [
    {
     "name": "stdout",
     "output_type": "stream",
     "text": [
      "nn.Sequential {\n",
      "  [input -> (0) -> (1) -> (2) -> (3) -> (4) -> (5) -> (6) -> (7) -> (8) -> (9) -> (10) -> (11) -> (12) -> (13) -> (14) -> (15) -> (16) -> (17) -> (18) -> (19) -> output]\n",
      "  (0): nn.SpatialConvolution(3 -> 64, 11x11, 4, 4, 2, 2)\n",
      "  (1): nn.ReLU\n",
      "  (2): nn.SpatialMaxPooling(3x3, 2, 2)\n",
      "  (3): nn.SpatialConvolution(64 -> 192, 5x5, 1, 1, 2, 2)\n",
      "  (4): nn.ReLU\n",
      "  (5): nn.SpatialMaxPooling(3x3, 2, 2)\n",
      "  (6): nn.SpatialConvolution(192 -> 384, 3x3, 1, 1, 1, 1)\n",
      "  (7): nn.ReLU\n",
      "  (8): nn.SpatialConvolution(384 -> 256, 3x3, 1, 1, 1, 1)\n",
      "  (9): nn.ReLU\n",
      "  (10): nn.SpatialConvolution(256 -> 256, 3x3, 1, 1, 1, 1)\n",
      "  (11): nn.ReLU\n",
      "  (12): nn.SpatialMaxPooling(3x3, 2, 2)\n",
      "  (13): nn.View(1, 9216)\n",
      "  (14): nn.Linear(9216 -> 4096)\n",
      "  (15): nn.ReLU\n",
      "  (16): nn.Linear(4096 -> 4096)\n",
      "  (17): nn.ReLU\n",
      "  (18): nn.Linear(4096 -> 46)\n",
      "  (19): nn.SoftMax\n",
      "}\n"
     ]
    }
   ],
   "source": [
    "m1 = torch.load('torch_model.net')  # load torch model\n",
    "print(m1)"
   ]
  },
  {
   "cell_type": "code",
   "execution_count": 3,
   "metadata": {
    "collapsed": true
   },
   "outputs": [],
   "source": [
    "class ModelDef(nn.Module):\n",
    "\n",
    "    def __init__(self, num_classes=46):\n",
    "        super(ModelDef, self).__init__()\n",
    "        self.features = nn.Sequential(\n",
    "            nn.Conv2d(3, 64, kernel_size=11, stride=4, padding=2),\n",
    "            nn.ReLU(inplace=True),                                \n",
    "            nn.MaxPool2d(kernel_size=3, stride=2),\n",
    "            nn.Conv2d(64, 192, kernel_size=5, padding=2),\n",
    "            nn.ReLU(inplace=True),\n",
    "            nn.MaxPool2d(kernel_size=3, stride=2),\n",
    "            nn.Conv2d(192, 384, kernel_size=3, padding=1),\n",
    "            nn.ReLU(inplace=True),\n",
    "            nn.Conv2d(384, 256, kernel_size=3, padding=1),\n",
    "            nn.ReLU(inplace=True),\n",
    "            nn.Conv2d(256, 256, kernel_size=3, padding=1),\n",
    "            nn.ReLU(inplace=True),\n",
    "            nn.MaxPool2d(kernel_size=3, stride=2),\n",
    "        )\n",
    "        self.classifier = nn.Sequential(\n",
    "            nn.Linear(9216, 4096),\n",
    "            nn.ReLU(inplace=True),\n",
    "            nn.Linear(4096, 4096),\n",
    "            nn.ReLU(inplace=True),\n",
    "            nn.Linear(4096, num_classes)\n",
    "        )                                                         \n",
    "                                                                  \n",
    "    def forward(self, x):\n",
    "        x = self.features(x)\n",
    "        x = self.classifier(x)\n",
    "        return x\n"
   ]
  },
  {
   "cell_type": "code",
   "execution_count": 4,
   "metadata": {
    "collapsed": true
   },
   "outputs": [],
   "source": [
    "m2 = ModelDef()"
   ]
  },
  {
   "cell_type": "code",
   "execution_count": 5,
   "metadata": {
    "collapsed": true
   },
   "outputs": [],
   "source": [
    "# copy weights from torch model into pytorch model\n",
    "j = 0\n",
    "for i in m2.modules():\n",
    "    if not list(i.children()):\n",
    "        if len(i.state_dict()) > 0:\n",
    "            i.weight.data = m1.modules[j].weight\n",
    "            i.bias.data = m1.modules[j].bias\n",
    "            \n",
    "        j += 1\n",
    "        if j == 13:    # Ignore nn.View\n",
    "            j += 1\n"
   ]
  },
  {
   "cell_type": "code",
   "execution_count": 6,
   "metadata": {},
   "outputs": [
    {
     "data": {
      "text/plain": [
       "Parameter containing:\n",
       "-0.0000 -0.0000 -0.0000  ...  -0.0001  0.0000  0.0000\n",
       " 0.0000  0.0000  0.0000  ...   0.0000 -0.0000 -0.0000\n",
       " 0.0002 -0.0001  0.0001  ...   0.0000 -0.0002  0.0169\n",
       "          ...             ⋱             ...          \n",
       " 0.0000 -0.0000 -0.0000  ...   0.0000 -0.0000  0.0000\n",
       "-0.0000  0.0000  0.0000  ...   0.0001 -0.0000 -0.0000\n",
       " 0.0000 -0.0000  0.0000  ...  -0.0000 -0.0000 -0.0000\n",
       "[torch.FloatTensor of size 4096x9216]"
      ]
     },
     "execution_count": 6,
     "metadata": {},
     "output_type": "execute_result"
    }
   ],
   "source": [
    "m2._modules['classifier'][0].weight"
   ]
  },
  {
   "cell_type": "code",
   "execution_count": 7,
   "metadata": {},
   "outputs": [
    {
     "data": {
      "text/plain": [
       "\n",
       "-0.0000 -0.0000 -0.0000  ...  -0.0001  0.0000  0.0000\n",
       " 0.0000  0.0000  0.0000  ...   0.0000 -0.0000 -0.0000\n",
       " 0.0002 -0.0001  0.0001  ...   0.0000 -0.0002  0.0169\n",
       "          ...             ⋱             ...          \n",
       " 0.0000 -0.0000 -0.0000  ...   0.0000 -0.0000  0.0000\n",
       "-0.0000  0.0000  0.0000  ...   0.0001 -0.0000 -0.0000\n",
       " 0.0000 -0.0000  0.0000  ...  -0.0000 -0.0000 -0.0000\n",
       "[torch.FloatTensor of size 4096x9216]"
      ]
     },
     "execution_count": 7,
     "metadata": {},
     "output_type": "execute_result"
    }
   ],
   "source": [
    "m1.modules[14].weight # both weights should match"
   ]
  },
  {
   "cell_type": "code",
   "execution_count": null,
   "metadata": {
    "collapsed": true
   },
   "outputs": [],
   "source": [
    "torch.save(m2.state_dict(), 'pytorch_model.pth.tar')"
   ]
  }
 ],
 "metadata": {
  "kernelspec": {
   "display_name": "Python 3",
   "language": "python",
   "name": "python3"
  },
  "language_info": {
   "codemirror_mode": {
    "name": "ipython",
    "version": 3
   },
   "file_extension": ".py",
   "mimetype": "text/x-python",
   "name": "python",
   "nbconvert_exporter": "python",
   "pygments_lexer": "ipython3",
   "version": "3.5.2"
  }
 },
 "nbformat": 4,
 "nbformat_minor": 2
}
